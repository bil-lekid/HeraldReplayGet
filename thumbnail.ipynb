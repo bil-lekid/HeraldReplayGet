{
 "cells": [
  {
   "cell_type": "code",
   "execution_count": 153,
   "metadata": {},
   "outputs": [],
   "source": [
    "import scrapetube\n",
    "import pytube\n",
    "import wget\n",
    "import os\n",
    "from pytube import YouTube\n",
    "insert_video = 'https://www.youtube.com/watch?v=XXn66X2z2ig&t=134s'\n",
    "channelurl = YouTube(insert_video).channel_url\n",
    "yt_channel = pytube.Channel(channelurl)\n",
    "videos = scrapetube.get_channel(yt_channel.channel_id)\n",
    "name = yt_channel.channel_name\n",
    "PATH = name\n",
    "if not os.path.exists(PATH):\n",
    "    os.makedirs(PATH)\n",
    "for video in videos:\n",
    "    try:\n",
    "        video_url = f\"https://www.youtube.com/watch?v={video['videoId']}\"\n",
    "        video_title = video['title']['runs'][0]['text']\n",
    "        high_resolution_thumbnail_url = pytube.YouTube(video_url).thumbnail_url.replace('default.jpg', 'hqdefault.jpg')\n",
    "        wget.download(high_resolution_thumbnail_url,f'{name}/{video_title}.jpg')\n",
    "        # print(high_resolution_thumbnail_url)\n",
    "    except:\n",
    "        pass\n"
   ]
  }
 ],
 "metadata": {
  "kernelspec": {
   "display_name": "Python 3",
   "language": "python",
   "name": "python3"
  },
  "language_info": {
   "codemirror_mode": {
    "name": "ipython",
    "version": 3
   },
   "file_extension": ".py",
   "mimetype": "text/x-python",
   "name": "python",
   "nbconvert_exporter": "python",
   "pygments_lexer": "ipython3",
   "version": "3.8.9"
  },
  "orig_nbformat": 4
 },
 "nbformat": 4,
 "nbformat_minor": 2
}
